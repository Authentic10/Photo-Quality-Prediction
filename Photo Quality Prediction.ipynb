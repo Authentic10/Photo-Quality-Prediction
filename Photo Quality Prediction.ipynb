{
 "cells": [
  {
   "cell_type": "code",
   "execution_count": 1,
   "metadata": {
    "_cell_guid": "b1076dfc-b9ad-4769-8c92-a6c4dae69d19",
    "_uuid": "8f2839f25d086af736a60e9eeb907d3b93b6e0e5",
    "execution": {
     "iopub.execute_input": "2021-08-11T14:27:15.185297Z",
     "iopub.status.busy": "2021-08-11T14:27:15.184721Z",
     "iopub.status.idle": "2021-08-11T14:27:15.201762Z",
     "shell.execute_reply": "2021-08-11T14:27:15.200689Z",
     "shell.execute_reply.started": "2021-08-11T14:27:15.185251Z"
    }
   },
   "outputs": [],
   "source": [
    "import numpy as np\n",
    "import pandas as pd \n",
    "import matplotlib.pyplot as plt\n",
    "import seaborn as sns\n",
    "import matplotlib\n",
    "%matplotlib inline\n",
    "\n",
    "pd.set_option('display.max_columns', None)\n",
    "pd.set_option('display.max_rows', 150)\n",
    "sns.set_style('darkgrid')\n",
    "matplotlib.rcParams['font.size'] = 14\n",
    "matplotlib.rcParams['figure.figsize'] = (10, 6)\n",
    "matplotlib.rcParams['figure.facecolor'] = '#00000000'"
   ]
  },
  {
   "cell_type": "code",
   "execution_count": 6,
   "metadata": {
    "execution": {
     "iopub.execute_input": "2021-08-11T13:55:11.455185Z",
     "iopub.status.busy": "2021-08-11T13:55:11.454824Z",
     "iopub.status.idle": "2021-08-11T13:55:11.802957Z",
     "shell.execute_reply": "2021-08-11T13:55:11.802058Z",
     "shell.execute_reply.started": "2021-08-11T13:55:11.455156Z"
    }
   },
   "outputs": [
    {
     "data": {
      "text/html": [
       "<div>\n",
       "<style scoped>\n",
       "    .dataframe tbody tr th:only-of-type {\n",
       "        vertical-align: middle;\n",
       "    }\n",
       "\n",
       "    .dataframe tbody tr th {\n",
       "        vertical-align: top;\n",
       "    }\n",
       "\n",
       "    .dataframe thead th {\n",
       "        text-align: right;\n",
       "    }\n",
       "</style>\n",
       "<table border=\"1\" class=\"dataframe\">\n",
       "  <thead>\n",
       "    <tr style=\"text-align: right;\">\n",
       "      <th></th>\n",
       "      <th>id</th>\n",
       "      <th>latitude</th>\n",
       "      <th>longitude</th>\n",
       "      <th>width</th>\n",
       "      <th>height</th>\n",
       "      <th>size</th>\n",
       "      <th>name</th>\n",
       "      <th>description</th>\n",
       "      <th>caption</th>\n",
       "      <th>good</th>\n",
       "    </tr>\n",
       "  </thead>\n",
       "  <tbody>\n",
       "    <tr>\n",
       "      <th>0</th>\n",
       "      <td>1</td>\n",
       "      <td>45</td>\n",
       "      <td>16</td>\n",
       "      <td>604</td>\n",
       "      <td>453</td>\n",
       "      <td>31</td>\n",
       "      <td>454 1659</td>\n",
       "      <td>NaN</td>\n",
       "      <td>NaN</td>\n",
       "      <td>1</td>\n",
       "    </tr>\n",
       "    <tr>\n",
       "      <th>1</th>\n",
       "      <td>2</td>\n",
       "      <td>21</td>\n",
       "      <td>-87</td>\n",
       "      <td>720</td>\n",
       "      <td>534</td>\n",
       "      <td>43</td>\n",
       "      <td>2068 483</td>\n",
       "      <td>687 1182 1309 2068 2107 78 89 453 1905 712 120...</td>\n",
       "      <td>830 2112 1914 792 814 1386 474 2146 1591 194 5...</td>\n",
       "      <td>0</td>\n",
       "    </tr>\n",
       "    <tr>\n",
       "      <th>2</th>\n",
       "      <td>3</td>\n",
       "      <td>38</td>\n",
       "      <td>-97</td>\n",
       "      <td>720</td>\n",
       "      <td>540</td>\n",
       "      <td>71</td>\n",
       "      <td>802</td>\n",
       "      <td>NaN</td>\n",
       "      <td>NaN</td>\n",
       "      <td>0</td>\n",
       "    </tr>\n",
       "    <tr>\n",
       "      <th>3</th>\n",
       "      <td>4</td>\n",
       "      <td>38</td>\n",
       "      <td>-122</td>\n",
       "      <td>604</td>\n",
       "      <td>453</td>\n",
       "      <td>24</td>\n",
       "      <td>NaN</td>\n",
       "      <td>924 1914 671 853 193 51 744 1437 1245 563 1410...</td>\n",
       "      <td>665 2040 792 1056 226 248 1612 1920 617 1365 1...</td>\n",
       "      <td>0</td>\n",
       "    </tr>\n",
       "    <tr>\n",
       "      <th>4</th>\n",
       "      <td>5</td>\n",
       "      <td>-29</td>\n",
       "      <td>24</td>\n",
       "      <td>720</td>\n",
       "      <td>540</td>\n",
       "      <td>13</td>\n",
       "      <td>1766 20</td>\n",
       "      <td>NaN</td>\n",
       "      <td>181 891 22 2123 2107 523 2080 683 1640 166 109...</td>\n",
       "      <td>0</td>\n",
       "    </tr>\n",
       "  </tbody>\n",
       "</table>\n",
       "</div>"
      ],
      "text/plain": [
       "   id  latitude  longitude  width  height  size      name  \\\n",
       "0   1        45         16    604     453    31  454 1659   \n",
       "1   2        21        -87    720     534    43  2068 483   \n",
       "2   3        38        -97    720     540    71       802   \n",
       "3   4        38       -122    604     453    24       NaN   \n",
       "4   5       -29         24    720     540    13   1766 20   \n",
       "\n",
       "                                         description  \\\n",
       "0                                                NaN   \n",
       "1  687 1182 1309 2068 2107 78 89 453 1905 712 120...   \n",
       "2                                                NaN   \n",
       "3  924 1914 671 853 193 51 744 1437 1245 563 1410...   \n",
       "4                                                NaN   \n",
       "\n",
       "                                             caption  good  \n",
       "0                                                NaN     1  \n",
       "1  830 2112 1914 792 814 1386 474 2146 1591 194 5...     0  \n",
       "2                                                NaN     0  \n",
       "3  665 2040 792 1056 226 248 1612 1920 617 1365 1...     0  \n",
       "4  181 891 22 2123 2107 523 2080 683 1640 166 109...     0  "
      ]
     },
     "execution_count": 6,
     "metadata": {},
     "output_type": "execute_result"
    }
   ],
   "source": [
    "# Read the the dataset\n",
    "df_train = pd.read_csv('training.csv')\n",
    "df = df_train.copy()\n",
    "df.head()"
   ]
  },
  {
   "cell_type": "code",
   "execution_count": 7,
   "metadata": {
    "execution": {
     "iopub.execute_input": "2021-08-11T09:24:42.462160Z",
     "iopub.status.busy": "2021-08-11T09:24:42.461777Z",
     "iopub.status.idle": "2021-08-11T09:24:42.482581Z",
     "shell.execute_reply": "2021-08-11T09:24:42.481605Z",
     "shell.execute_reply.started": "2021-08-11T09:24:42.462126Z"
    }
   },
   "outputs": [
    {
     "data": {
      "text/plain": [
       "id                 0\n",
       "latitude           0\n",
       "longitude          0\n",
       "width              0\n",
       "height             0\n",
       "size               0\n",
       "name            4798\n",
       "description    27564\n",
       "caption        11807\n",
       "good               0\n",
       "dtype: int64"
      ]
     },
     "execution_count": 7,
     "metadata": {},
     "output_type": "execute_result"
    }
   ],
   "source": [
    "# Look for null values\n",
    "df.isnull().sum()"
   ]
  },
  {
   "cell_type": "code",
   "execution_count": 8,
   "metadata": {
    "execution": {
     "iopub.execute_input": "2021-08-11T09:27:50.462117Z",
     "iopub.status.busy": "2021-08-11T09:27:50.461459Z",
     "iopub.status.idle": "2021-08-11T09:27:50.498590Z",
     "shell.execute_reply": "2021-08-11T09:27:50.497308Z",
     "shell.execute_reply.started": "2021-08-11T09:27:50.462064Z"
    }
   },
   "outputs": [
    {
     "name": "stdout",
     "output_type": "stream",
     "text": [
      "<class 'pandas.core.frame.DataFrame'>\n",
      "RangeIndex: 40262 entries, 0 to 40261\n",
      "Data columns (total 10 columns):\n",
      " #   Column       Non-Null Count  Dtype \n",
      "---  ------       --------------  ----- \n",
      " 0   id           40262 non-null  int64 \n",
      " 1   latitude     40262 non-null  int64 \n",
      " 2   longitude    40262 non-null  int64 \n",
      " 3   width        40262 non-null  int64 \n",
      " 4   height       40262 non-null  int64 \n",
      " 5   size         40262 non-null  int64 \n",
      " 6   name         35464 non-null  object\n",
      " 7   description  12698 non-null  object\n",
      " 8   caption      28455 non-null  object\n",
      " 9   good         40262 non-null  int64 \n",
      "dtypes: int64(7), object(3)\n",
      "memory usage: 3.1+ MB\n"
     ]
    }
   ],
   "source": [
    "# Look for the different types of the variables\n",
    "df.info()"
   ]
  },
  {
   "cell_type": "code",
   "execution_count": 9,
   "metadata": {
    "execution": {
     "iopub.execute_input": "2021-08-11T13:57:06.349365Z",
     "iopub.status.busy": "2021-08-11T13:57:06.348964Z",
     "iopub.status.idle": "2021-08-11T13:57:06.353827Z",
     "shell.execute_reply": "2021-08-11T13:57:06.352850Z",
     "shell.execute_reply.started": "2021-08-11T13:57:06.349331Z"
    }
   },
   "outputs": [],
   "source": [
    "# Define the features and the target columns\n",
    "inputs = list(df.columns)[1:-1]\n",
    "target = 'good'"
   ]
  },
  {
   "cell_type": "code",
   "execution_count": 10,
   "metadata": {
    "execution": {
     "iopub.execute_input": "2021-08-11T13:57:09.234200Z",
     "iopub.status.busy": "2021-08-11T13:57:09.233655Z",
     "iopub.status.idle": "2021-08-11T13:57:09.245071Z",
     "shell.execute_reply": "2021-08-11T13:57:09.244230Z",
     "shell.execute_reply.started": "2021-08-11T13:57:09.234154Z"
    }
   },
   "outputs": [],
   "source": [
    "# Define the features and the target data\n",
    "X = df[inputs]\n",
    "y = df[target]"
   ]
  },
  {
   "cell_type": "code",
   "execution_count": 11,
   "metadata": {
    "execution": {
     "iopub.execute_input": "2021-08-11T13:57:33.142524Z",
     "iopub.status.busy": "2021-08-11T13:57:33.142107Z",
     "iopub.status.idle": "2021-08-11T13:57:33.154941Z",
     "shell.execute_reply": "2021-08-11T13:57:33.153843Z",
     "shell.execute_reply.started": "2021-08-11T13:57:33.142492Z"
    }
   },
   "outputs": [],
   "source": [
    "# Get the numerical and the categorical columns\n",
    "numeric_cols = X.select_dtypes(include=np.number).columns.tolist()\n",
    "categorical_cols = X.select_dtypes('object').columns.tolist()"
   ]
  },
  {
   "cell_type": "code",
   "execution_count": 12,
   "metadata": {
    "execution": {
     "iopub.execute_input": "2021-08-11T14:10:57.587296Z",
     "iopub.status.busy": "2021-08-11T14:10:57.586868Z",
     "iopub.status.idle": "2021-08-11T14:10:57.605343Z",
     "shell.execute_reply": "2021-08-11T14:10:57.604445Z",
     "shell.execute_reply.started": "2021-08-11T14:10:57.587258Z"
    }
   },
   "outputs": [],
   "source": [
    "# Split the data into train and test\n",
    "from sklearn.model_selection import train_test_split\n",
    "X_train, X_test, y_train, y_test = train_test_split(X, y, test_size=0.33, random_state=42)"
   ]
  },
  {
   "cell_type": "code",
   "execution_count": null,
   "metadata": {},
   "outputs": [],
   "source": [
    "# Replace the categorical columns with the most the frequent one\n",
    "from sklearn.impute import SimpleImputer\n",
    "\n",
    "imp = SimpleImputer(strategy='most_frequent')\n",
    "\n",
    "imp.fit(df[categorical_cols])\n",
    "\n",
    "X_train[categorical_cols] = imp.transform(X_train[categorical_cols])\n",
    "X_test[categorical_cols] = imp.transform(X_test[categorical_cols])"
   ]
  },
  {
   "cell_type": "code",
   "execution_count": 14,
   "metadata": {
    "execution": {
     "iopub.execute_input": "2021-08-11T14:11:16.631596Z",
     "iopub.status.busy": "2021-08-11T14:11:16.630939Z",
     "iopub.status.idle": "2021-08-11T14:11:16.734139Z",
     "shell.execute_reply": "2021-08-11T14:11:16.733174Z",
     "shell.execute_reply.started": "2021-08-11T14:11:16.631547Z"
    }
   },
   "outputs": [
    {
     "data": {
      "text/plain": [
       "name            description            caption                                                \n",
       "1237 2002       1237 2002              1905                                                       721\n",
       "2068            1237 2002              1905                                                        79\n",
       "1207            1237 2002              1905                                                        46\n",
       "1559            1237 2002              1905                                                        44\n",
       "432 1560        1237 2002              1905                                                        39\n",
       "                                                                                                 ... \n",
       "1412 483        1237 2002              2107 815 51 348 271 1944 1544 1984 813                       1\n",
       "1411 1048       643 968 1976 250 1950  830 2019 1899 1118 1096 1905 1955 2054 949 817 784 1368      1\n",
       "1410 745 1242   1749 745 1242          1419 2107 1905 427 829 2039                                  1\n",
       "1410 1757 1361  1237 2002              2145 1393 2070 1933 1048                                     1\n",
       "999 26          78 1905                517 2151 1157 1905 2136 1455 999 1340 483                    1\n",
       "Length: 24251, dtype: int64"
      ]
     },
     "execution_count": 14,
     "metadata": {},
     "output_type": "execute_result"
    }
   ],
   "source": [
    "# Count the occurence for each value in the categorical columns\n",
    "X_train[categorical_cols].value_counts()"
   ]
  },
  {
   "cell_type": "markdown",
   "metadata": {},
   "source": [
    "We can see that there are a lot of occurences for some values and others have few so let's remove the categorical values for now"
   ]
  },
  {
   "cell_type": "code",
   "execution_count": null,
   "metadata": {},
   "outputs": [],
   "source": [
    "# Delete the categorical values from both train and test data\n",
    "X_train.drop(categorical_cols, axis=1, inplace=True)\n",
    "X_test.drop(categorical_cols, axis=1, inplace=True)"
   ]
  },
  {
   "cell_type": "code",
   "execution_count": 16,
   "metadata": {
    "execution": {
     "iopub.execute_input": "2021-08-11T14:11:42.152225Z",
     "iopub.status.busy": "2021-08-11T14:11:42.151851Z",
     "iopub.status.idle": "2021-08-11T14:11:42.163909Z",
     "shell.execute_reply": "2021-08-11T14:11:42.162653Z",
     "shell.execute_reply.started": "2021-08-11T14:11:42.152191Z"
    }
   },
   "outputs": [
    {
     "data": {
      "text/html": [
       "<div>\n",
       "<style scoped>\n",
       "    .dataframe tbody tr th:only-of-type {\n",
       "        vertical-align: middle;\n",
       "    }\n",
       "\n",
       "    .dataframe tbody tr th {\n",
       "        vertical-align: top;\n",
       "    }\n",
       "\n",
       "    .dataframe thead th {\n",
       "        text-align: right;\n",
       "    }\n",
       "</style>\n",
       "<table border=\"1\" class=\"dataframe\">\n",
       "  <thead>\n",
       "    <tr style=\"text-align: right;\">\n",
       "      <th></th>\n",
       "      <th>latitude</th>\n",
       "      <th>longitude</th>\n",
       "      <th>width</th>\n",
       "      <th>height</th>\n",
       "      <th>size</th>\n",
       "    </tr>\n",
       "  </thead>\n",
       "  <tbody>\n",
       "    <tr>\n",
       "      <th>39565</th>\n",
       "      <td>36</td>\n",
       "      <td>-122</td>\n",
       "      <td>720</td>\n",
       "      <td>540</td>\n",
       "      <td>31</td>\n",
       "    </tr>\n",
       "    <tr>\n",
       "      <th>30033</th>\n",
       "      <td>44</td>\n",
       "      <td>-73</td>\n",
       "      <td>320</td>\n",
       "      <td>240</td>\n",
       "      <td>11</td>\n",
       "    </tr>\n",
       "    <tr>\n",
       "      <th>26360</th>\n",
       "      <td>51</td>\n",
       "      <td>9</td>\n",
       "      <td>604</td>\n",
       "      <td>453</td>\n",
       "      <td>58</td>\n",
       "    </tr>\n",
       "    <tr>\n",
       "      <th>38374</th>\n",
       "      <td>32</td>\n",
       "      <td>-86</td>\n",
       "      <td>720</td>\n",
       "      <td>480</td>\n",
       "      <td>12</td>\n",
       "    </tr>\n",
       "    <tr>\n",
       "      <th>33631</th>\n",
       "      <td>35</td>\n",
       "      <td>105</td>\n",
       "      <td>604</td>\n",
       "      <td>453</td>\n",
       "      <td>31</td>\n",
       "    </tr>\n",
       "  </tbody>\n",
       "</table>\n",
       "</div>"
      ],
      "text/plain": [
       "       latitude  longitude  width  height  size\n",
       "39565        36       -122    720     540    31\n",
       "30033        44        -73    320     240    11\n",
       "26360        51          9    604     453    58\n",
       "38374        32        -86    720     480    12\n",
       "33631        35        105    604     453    31"
      ]
     },
     "execution_count": 16,
     "metadata": {},
     "output_type": "execute_result"
    }
   ],
   "source": [
    "X_train.head()"
   ]
  },
  {
   "cell_type": "markdown",
   "metadata": {},
   "source": [
    "## Model Training and tuning"
   ]
  },
  {
   "cell_type": "markdown",
   "metadata": {},
   "source": [
    "Let's start with a decision tree"
   ]
  },
  {
   "cell_type": "code",
   "execution_count": 17,
   "metadata": {
    "execution": {
     "iopub.execute_input": "2021-08-11T14:15:49.389780Z",
     "iopub.status.busy": "2021-08-11T14:15:49.389391Z",
     "iopub.status.idle": "2021-08-11T14:15:49.394239Z",
     "shell.execute_reply": "2021-08-11T14:15:49.393239Z",
     "shell.execute_reply.started": "2021-08-11T14:15:49.389745Z"
    }
   },
   "outputs": [],
   "source": [
    "from sklearn.tree import DecisionTreeClassifier\n",
    "from sklearn.metrics import accuracy_score, confusion_matrix"
   ]
  },
  {
   "cell_type": "code",
   "execution_count": 18,
   "metadata": {
    "execution": {
     "iopub.execute_input": "2021-08-11T14:13:05.538586Z",
     "iopub.status.busy": "2021-08-11T14:13:05.537926Z",
     "iopub.status.idle": "2021-08-11T14:13:05.543256Z",
     "shell.execute_reply": "2021-08-11T14:13:05.541899Z",
     "shell.execute_reply.started": "2021-08-11T14:13:05.538548Z"
    }
   },
   "outputs": [],
   "source": [
    "model = DecisionTreeClassifier(random_state=42)"
   ]
  },
  {
   "cell_type": "code",
   "execution_count": 19,
   "metadata": {
    "execution": {
     "iopub.execute_input": "2021-08-11T14:13:10.055089Z",
     "iopub.status.busy": "2021-08-11T14:13:10.054702Z",
     "iopub.status.idle": "2021-08-11T14:13:10.170435Z",
     "shell.execute_reply": "2021-08-11T14:13:10.169425Z",
     "shell.execute_reply.started": "2021-08-11T14:13:10.055056Z"
    }
   },
   "outputs": [
    {
     "name": "stdout",
     "output_type": "stream",
     "text": [
      "CPU times: user 72.9 ms, sys: 1.48 ms, total: 74.3 ms\n",
      "Wall time: 73.1 ms\n"
     ]
    },
    {
     "data": {
      "text/plain": [
       "DecisionTreeClassifier(random_state=42)"
      ]
     },
     "execution_count": 19,
     "metadata": {},
     "output_type": "execute_result"
    }
   ],
   "source": [
    "%%time\n",
    "model.fit(X_train, y_train)"
   ]
  },
  {
   "cell_type": "code",
   "execution_count": 20,
   "metadata": {
    "execution": {
     "iopub.execute_input": "2021-08-11T14:14:42.230949Z",
     "iopub.status.busy": "2021-08-11T14:14:42.230552Z",
     "iopub.status.idle": "2021-08-11T14:14:42.245242Z",
     "shell.execute_reply": "2021-08-11T14:14:42.244136Z",
     "shell.execute_reply.started": "2021-08-11T14:14:42.230916Z"
    }
   },
   "outputs": [],
   "source": [
    "train_preds = model.predict(X_train)"
   ]
  },
  {
   "cell_type": "code",
   "execution_count": 21,
   "metadata": {
    "execution": {
     "iopub.execute_input": "2021-08-11T14:16:22.779070Z",
     "iopub.status.busy": "2021-08-11T14:16:22.778697Z",
     "iopub.status.idle": "2021-08-11T14:16:22.788307Z",
     "shell.execute_reply": "2021-08-11T14:16:22.787433Z",
     "shell.execute_reply.started": "2021-08-11T14:16:22.779041Z"
    }
   },
   "outputs": [
    {
     "data": {
      "text/plain": [
       "0.9667099165894346"
      ]
     },
     "execution_count": 21,
     "metadata": {},
     "output_type": "execute_result"
    }
   ],
   "source": [
    "# Check the accuracy score to see how our model will perform on the train data\n",
    "accuracy_score(y_train, train_preds)"
   ]
  },
  {
   "cell_type": "code",
   "execution_count": 22,
   "metadata": {
    "execution": {
     "iopub.execute_input": "2021-08-11T14:17:13.835296Z",
     "iopub.status.busy": "2021-08-11T14:17:13.834851Z",
     "iopub.status.idle": "2021-08-11T14:17:13.850718Z",
     "shell.execute_reply": "2021-08-11T14:17:13.849681Z",
     "shell.execute_reply.started": "2021-08-11T14:17:13.835260Z"
    }
   },
   "outputs": [
    {
     "data": {
      "text/plain": [
       "0.6814931888311884"
      ]
     },
     "execution_count": 22,
     "metadata": {},
     "output_type": "execute_result"
    }
   ],
   "source": [
    "# Check the score on the test data\n",
    "model.score(X_test, y_test)"
   ]
  },
  {
   "cell_type": "markdown",
   "metadata": {},
   "source": [
    "We can see that there is a big difference between the score of the training set and the test set. The model has perfectely learned the train set and can't do well on the test set. There is overfiting"
   ]
  },
  {
   "cell_type": "markdown",
   "metadata": {},
   "source": [
    "Let's retrain our model by specifying some parameters for the decision tree"
   ]
  },
  {
   "cell_type": "code",
   "execution_count": 23,
   "metadata": {
    "execution": {
     "iopub.execute_input": "2021-08-11T14:20:57.489503Z",
     "iopub.status.busy": "2021-08-11T14:20:57.488905Z",
     "iopub.status.idle": "2021-08-11T14:20:57.520610Z",
     "shell.execute_reply": "2021-08-11T14:20:57.519561Z",
     "shell.execute_reply.started": "2021-08-11T14:20:57.489452Z"
    }
   },
   "outputs": [
    {
     "data": {
      "text/plain": [
       "DecisionTreeClassifier(max_depth=3, random_state=42)"
      ]
     },
     "execution_count": 23,
     "metadata": {},
     "output_type": "execute_result"
    }
   ],
   "source": [
    "model = DecisionTreeClassifier(max_depth=3, random_state=42)\n",
    "model.fit(X_train, y_train)"
   ]
  },
  {
   "cell_type": "code",
   "execution_count": 24,
   "metadata": {
    "execution": {
     "iopub.execute_input": "2021-08-11T14:21:11.452539Z",
     "iopub.status.busy": "2021-08-11T14:21:11.451945Z",
     "iopub.status.idle": "2021-08-11T14:21:11.465527Z",
     "shell.execute_reply": "2021-08-11T14:21:11.464493Z",
     "shell.execute_reply.started": "2021-08-11T14:21:11.452492Z"
    }
   },
   "outputs": [
    {
     "data": {
      "text/plain": [
       "0.7397590361445783"
      ]
     },
     "execution_count": 24,
     "metadata": {},
     "output_type": "execute_result"
    }
   ],
   "source": [
    "# Let's check the score on the training set\n",
    "model.score(X_train, y_train)"
   ]
  },
  {
   "cell_type": "code",
   "execution_count": 25,
   "metadata": {
    "execution": {
     "iopub.execute_input": "2021-08-11T14:22:01.915246Z",
     "iopub.status.busy": "2021-08-11T14:22:01.914827Z",
     "iopub.status.idle": "2021-08-11T14:22:01.927864Z",
     "shell.execute_reply": "2021-08-11T14:22:01.926681Z",
     "shell.execute_reply.started": "2021-08-11T14:22:01.915204Z"
    }
   },
   "outputs": [
    {
     "data": {
      "text/plain": [
       "0.7374125084669225"
      ]
     },
     "execution_count": 25,
     "metadata": {},
     "output_type": "execute_result"
    }
   ],
   "source": [
    "# Let's check the score on the test set\n",
    "model.score(X_test, y_test)"
   ]
  },
  {
   "cell_type": "markdown",
   "metadata": {},
   "source": [
    "Both score are close to each other. That's a great news. There is no overfiting anymore. Let's try to improve the model prediction power"
   ]
  },
  {
   "cell_type": "code",
   "execution_count": 26,
   "metadata": {
    "execution": {
     "iopub.execute_input": "2021-08-11T14:24:42.819747Z",
     "iopub.status.busy": "2021-08-11T14:24:42.819393Z",
     "iopub.status.idle": "2021-08-11T14:24:42.825305Z",
     "shell.execute_reply": "2021-08-11T14:24:42.824437Z",
     "shell.execute_reply.started": "2021-08-11T14:24:42.819720Z"
    }
   },
   "outputs": [],
   "source": [
    "def max_depth_error(md):\n",
    "    model = DecisionTreeClassifier(max_depth=md, random_state=42)\n",
    "    model.fit(X_train, y_train)\n",
    "    train_acc = 1 - model.score(X_train, y_train)\n",
    "    val_acc = 1 - model.score(X_test, y_test)\n",
    "    return {'Max Depth': md, 'Training Error': train_acc, 'Validation Error': val_acc}"
   ]
  },
  {
   "cell_type": "code",
   "execution_count": 27,
   "metadata": {
    "execution": {
     "iopub.execute_input": "2021-08-11T14:24:45.169309Z",
     "iopub.status.busy": "2021-08-11T14:24:45.168747Z",
     "iopub.status.idle": "2021-08-11T14:24:46.557235Z",
     "shell.execute_reply": "2021-08-11T14:24:46.556175Z",
     "shell.execute_reply.started": "2021-08-11T14:24:45.169246Z"
    }
   },
   "outputs": [
    {
     "name": "stdout",
     "output_type": "stream",
     "text": [
      "CPU times: user 990 ms, sys: 0 ns, total: 990 ms\n",
      "Wall time: 989 ms\n"
     ]
    }
   ],
   "source": [
    "%%time\n",
    "errors_df = pd.DataFrame([max_depth_error(md) for md in range(1, 21)])"
   ]
  },
  {
   "cell_type": "markdown",
   "metadata": {},
   "source": [
    "Let's plot the errors"
   ]
  },
  {
   "cell_type": "code",
   "execution_count": 28,
   "metadata": {
    "execution": {
     "iopub.execute_input": "2021-08-11T14:27:21.389970Z",
     "iopub.status.busy": "2021-08-11T14:27:21.389481Z",
     "iopub.status.idle": "2021-08-11T14:27:21.738501Z",
     "shell.execute_reply": "2021-08-11T14:27:21.737453Z",
     "shell.execute_reply.started": "2021-08-11T14:27:21.389939Z"
    }
   },
   "outputs": [
    {
     "data": {
      "text/plain": [
       "<matplotlib.legend.Legend at 0x7ff68347fd60>"
      ]
     },
     "execution_count": 28,
     "metadata": {},
     "output_type": "execute_result"
    },
    {
     "data": {
      "image/png": "[encoded data removed]",
      "text/plain": [
       "<Figure size 720x432 with 1 Axes>"
      ]
     },
     "metadata": {
      "needs_background": "light"
     },
     "output_type": "display_data"
    }
   ],
   "source": [
    "plt.figure()\n",
    "plt.plot(errors_df['Max Depth'], errors_df['Training Error'])\n",
    "plt.plot(errors_df['Max Depth'], errors_df['Validation Error'])\n",
    "plt.title('Training vs. Validation Error')\n",
    "plt.xticks(range(0,21, 2))\n",
    "plt.xlabel('Max. Depth')\n",
    "plt.ylabel('Prediction Error (1 - Accuracy)')\n",
    "plt.legend(['Training', 'Validation'])"
   ]
  },
  {
   "cell_type": "markdown",
   "metadata": {},
   "source": [
    "It seems like the best max depth for our model is around 2 so let's retrain our model with a max_depth of 2"
   ]
  },
  {
   "cell_type": "code",
   "execution_count": 53,
   "metadata": {
    "execution": {
     "iopub.execute_input": "2021-08-11T14:30:13.320671Z",
     "iopub.status.busy": "2021-08-11T14:30:13.320298Z",
     "iopub.status.idle": "2021-08-11T14:30:13.351345Z",
     "shell.execute_reply": "2021-08-11T14:30:13.350291Z",
     "shell.execute_reply.started": "2021-08-11T14:30:13.320637Z"
    }
   },
   "outputs": [
    {
     "data": {
      "text/plain": [
       "0.7372619853992625"
      ]
     },
     "execution_count": 53,
     "metadata": {},
     "output_type": "execute_result"
    }
   ],
   "source": [
    "model = DecisionTreeClassifier(max_depth=2, random_state=42)\n",
    "model.fit(X_train, y_train)\n",
    "model.score(X_test, y_test)"
   ]
  },
  {
   "cell_type": "markdown",
   "metadata": {},
   "source": [
    "With the results above, we saw the best score we can achieve with the decision tree. Let's now try to train our model with the random forest algorithm"
   ]
  },
  {
   "cell_type": "code",
   "execution_count": 54,
   "metadata": {
    "execution": {
     "iopub.execute_input": "2021-08-11T14:32:51.717744Z",
     "iopub.status.busy": "2021-08-11T14:32:51.717398Z",
     "iopub.status.idle": "2021-08-11T14:32:51.750246Z",
     "shell.execute_reply": "2021-08-11T14:32:51.749368Z",
     "shell.execute_reply.started": "2021-08-11T14:32:51.717716Z"
    }
   },
   "outputs": [],
   "source": [
    "from sklearn.ensemble import RandomForestClassifier"
   ]
  },
  {
   "cell_type": "markdown",
   "metadata": {},
   "source": [
    "Let's train and check the score on the train data"
   ]
  },
  {
   "cell_type": "code",
   "execution_count": 56,
   "metadata": {
    "execution": {
     "iopub.execute_input": "2021-08-11T14:34:37.134272Z",
     "iopub.status.busy": "2021-08-11T14:34:37.133904Z",
     "iopub.status.idle": "2021-08-11T14:34:38.924025Z",
     "shell.execute_reply": "2021-08-11T14:34:38.923060Z",
     "shell.execute_reply.started": "2021-08-11T14:34:37.134241Z"
    }
   },
   "outputs": [
    {
     "data": {
      "text/plain": [
       "0.9667099165894346"
      ]
     },
     "execution_count": 56,
     "metadata": {},
     "output_type": "execute_result"
    }
   ],
   "source": [
    "model = RandomForestClassifier(n_jobs=-1, random_state=42)\n",
    "\n",
    "model.fit(X_train, y_train)\n",
    "\n",
    "model.score(X_train, y_train)"
   ]
  },
  {
   "cell_type": "code",
   "execution_count": 57,
   "metadata": {
    "execution": {
     "iopub.execute_input": "2021-08-11T14:35:20.367633Z",
     "iopub.status.busy": "2021-08-11T14:35:20.367270Z",
     "iopub.status.idle": "2021-08-11T14:35:20.582010Z",
     "shell.execute_reply": "2021-08-11T14:35:20.581348Z",
     "shell.execute_reply.started": "2021-08-11T14:35:20.367605Z"
    }
   },
   "outputs": [
    {
     "data": {
      "text/plain": [
       "0.7263490629939038"
      ]
     },
     "execution_count": 57,
     "metadata": {},
     "output_type": "execute_result"
    }
   ],
   "source": [
    "# Let's look for the score on the test dataset\n",
    "model.score(X_test, y_test)"
   ]
  },
  {
   "cell_type": "markdown",
   "metadata": {},
   "source": [
    "The behavior of our random forest model is like the the decision tree's. Let's tune it with different parameters"
   ]
  },
  {
   "cell_type": "code",
   "execution_count": 58,
   "metadata": {
    "execution": {
     "iopub.execute_input": "2021-08-11T14:37:44.558825Z",
     "iopub.status.busy": "2021-08-11T14:37:44.558210Z",
     "iopub.status.idle": "2021-08-11T14:37:44.563564Z",
     "shell.execute_reply": "2021-08-11T14:37:44.562678Z",
     "shell.execute_reply.started": "2021-08-11T14:37:44.558783Z"
    }
   },
   "outputs": [],
   "source": [
    "def test_params(**params):\n",
    "    model = RandomForestClassifier(random_state=42, n_jobs=-1, **params).fit(X_train, y_train)\n",
    "    return model.score(X_train, y_train), model.score(X_test, y_test)"
   ]
  },
  {
   "cell_type": "code",
   "execution_count": 69,
   "metadata": {
    "execution": {
     "iopub.execute_input": "2021-08-11T14:39:57.198959Z",
     "iopub.status.busy": "2021-08-11T14:39:57.198406Z",
     "iopub.status.idle": "2021-08-11T14:39:58.383431Z",
     "shell.execute_reply": "2021-08-11T14:39:58.382531Z",
     "shell.execute_reply.started": "2021-08-11T14:39:57.198911Z"
    }
   },
   "outputs": [
    {
     "data": {
      "text/plain": [
       "(0.7592585727525487, 0.7445623541807782)"
      ]
     },
     "execution_count": 69,
     "metadata": {},
     "output_type": "execute_result"
    }
   ],
   "source": [
    "test_params(max_depth=8)"
   ]
  },
  {
   "cell_type": "markdown",
   "metadata": {},
   "source": [
    "After trying different parameters and different values. Let's define the parameters of our final random forest model"
   ]
  },
  {
   "cell_type": "code",
   "execution_count": 83,
   "metadata": {
    "execution": {
     "iopub.execute_input": "2021-08-11T14:43:57.182104Z",
     "iopub.status.busy": "2021-08-11T14:43:57.181736Z",
     "iopub.status.idle": "2021-08-11T14:43:57.516532Z",
     "shell.execute_reply": "2021-08-11T14:43:57.515583Z",
     "shell.execute_reply.started": "2021-08-11T14:43:57.182070Z"
    }
   },
   "outputs": [
    {
     "data": {
      "text/plain": [
       "0.7803521779425394"
      ]
     },
     "execution_count": 83,
     "metadata": {},
     "output_type": "execute_result"
    }
   ],
   "source": [
    "model = RandomForestClassifier(n_jobs=-1, random_state=42, n_estimators=20, max_depth=10)\n",
    "model.fit(X_train, y_train)\n",
    "model.score(X_train, y_train)"
   ]
  },
  {
   "cell_type": "code",
   "execution_count": 81,
   "metadata": {
    "execution": {
     "iopub.execute_input": "2021-08-11T14:43:41.968292Z",
     "iopub.status.busy": "2021-08-11T14:43:41.967937Z",
     "iopub.status.idle": "2021-08-11T14:43:42.083784Z",
     "shell.execute_reply": "2021-08-11T14:43:42.082826Z",
     "shell.execute_reply.started": "2021-08-11T14:43:41.968264Z"
    }
   },
   "outputs": [
    {
     "data": {
      "text/plain": [
       "0.7475728155339806"
      ]
     },
     "execution_count": 81,
     "metadata": {},
     "output_type": "execute_result"
    }
   ],
   "source": [
    "model.score(X_test, y_test)"
   ]
  },
  {
   "cell_type": "markdown",
   "metadata": {},
   "source": [
    "We have a pretty good model that can be used on unseen data. Let's try to see if we can improve it with another algorithm"
   ]
  },
  {
   "cell_type": "code",
   "execution_count": 95,
   "metadata": {
    "execution": {
     "iopub.execute_input": "2021-08-11T14:51:47.674460Z",
     "iopub.status.busy": "2021-08-11T14:51:47.673808Z",
     "iopub.status.idle": "2021-08-11T14:51:47.785721Z",
     "shell.execute_reply": "2021-08-11T14:51:47.784650Z",
     "shell.execute_reply.started": "2021-08-11T14:51:47.674409Z"
    }
   },
   "outputs": [],
   "source": [
    "from xgboost import XGBClassifier"
   ]
  },
  {
   "cell_type": "code",
   "execution_count": 98,
   "metadata": {
    "execution": {
     "iopub.execute_input": "2021-08-11T14:52:09.524628Z",
     "iopub.status.busy": "2021-08-11T14:52:09.524220Z",
     "iopub.status.idle": "2021-08-11T14:52:10.369532Z",
     "shell.execute_reply": "2021-08-11T14:52:10.368508Z",
     "shell.execute_reply.started": "2021-08-11T14:52:09.524588Z"
    }
   },
   "outputs": [
    {
     "name": "stdout",
     "output_type": "stream",
     "text": [
      "[14:52:09] WARNING: ../src/learner.cc:1095: Starting in XGBoost 1.3.0, the default evaluation metric used with the objective 'binary:logistic' was changed from 'error' to 'logloss'. Explicitly set eval_metric if you'd like to restore the old behavior.\n"
     ]
    },
    {
     "data": {
      "text/plain": [
       "0.811306765523633"
      ]
     },
     "execution_count": 98,
     "metadata": {},
     "output_type": "execute_result"
    }
   ],
   "source": [
    "model = XGBClassifier()\n",
    "model.fit(X_train, y_train)\n",
    "model.score(X_train, y_train)"
   ]
  },
  {
   "cell_type": "code",
   "execution_count": 107,
   "metadata": {
    "execution": {
     "iopub.execute_input": "2021-08-11T15:05:22.206589Z",
     "iopub.status.busy": "2021-08-11T15:05:22.206230Z",
     "iopub.status.idle": "2021-08-11T15:05:22.240948Z",
     "shell.execute_reply": "2021-08-11T15:05:22.239912Z",
     "shell.execute_reply.started": "2021-08-11T15:05:22.206562Z"
    }
   },
   "outputs": [
    {
     "data": {
      "text/plain": [
       "0.7490780462105818"
      ]
     },
     "execution_count": 107,
     "metadata": {},
     "output_type": "execute_result"
    }
   ],
   "source": [
    "model.score(X_test, y_test)"
   ]
  },
  {
   "cell_type": "markdown",
   "metadata": {},
   "source": [
    "We weren't able to improve our test score on the test dataset so we decide to keep the final random forest model as the model to use if we had to put the model into production. We decide so because the train and test score are close to each  other so there is no overfitting. "
   ]
  },
  {
   "cell_type": "markdown",
   "metadata": {},
   "source": []
  },
  {
   "cell_type": "code",
   "execution_count": null,
   "metadata": {},
   "outputs": [],
   "source": [
    "!pip install jovian --quiet"
   ]
  },
  {
   "cell_type": "code",
   "execution_count": 101,
   "metadata": {
    "execution": {
     "iopub.execute_input": "2021-08-11T14:55:29.678893Z",
     "iopub.status.busy": "2021-08-11T14:55:29.678517Z",
     "iopub.status.idle": "2021-08-11T14:55:29.972432Z",
     "shell.execute_reply": "2021-08-11T14:55:29.971589Z",
     "shell.execute_reply.started": "2021-08-11T14:55:29.678862Z"
    }
   },
   "outputs": [
    {
     "data": {
      "application/javascript": [
       "if (window.IPython && IPython.notebook.kernel) IPython.notebook.kernel.execute('jovian.utils.jupyter.get_notebook_name_saved = lambda: \"' + IPython.notebook.notebook_name + '\"')"
      ],
      "text/plain": [
       "<IPython.core.display.Javascript object>"
      ]
     },
     "metadata": {},
     "output_type": "display_data"
    }
   ],
   "source": [
    "import jovian"
   ]
  },
  {
   "cell_type": "code",
   "execution_count": null,
   "metadata": {},
   "outputs": [],
   "source": [
    "jovian.commit()"
   ]
  },
  {
   "cell_type": "code",
   "execution_count": null,
   "metadata": {},
   "outputs": [],
   "source": [
    "jovian.submit(assignment=\"zerotogbms-project\")"
   ]
  }
 ],
 "metadata": {
  "kernelspec": {
   "display_name": "Python 3 (ipykernel)",
   "language": "python",
   "name": "python3"
  },
  "language_info": {
   "codemirror_mode": {
    "name": "ipython",
    "version": 3
   },
   "file_extension": ".py",
   "mimetype": "text/x-python",
   "name": "python",
   "nbconvert_exporter": "python",
   "pygments_lexer": "ipython3",
   "version": "3.9.6"
  }
 },
 "nbformat": 4,
 "nbformat_minor": 4
}
